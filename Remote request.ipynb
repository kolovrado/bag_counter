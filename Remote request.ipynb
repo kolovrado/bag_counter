{
 "cells": [
  {
   "cell_type": "code",
   "execution_count": 2,
   "id": "a26bf64c",
   "metadata": {},
   "outputs": [],
   "source": [
    "import requests\n",
    "\n",
    "url = \"http://0.0.0.0:8000/file/\"\n",
    "files = {'file': open('video_2024-06-03_15-38-55.mp4', 'rb')}\n",
    "# info about allowed directions of moving\n",
    "# both or one\n",
    "data={\"directions\": \"one\"}\n",
    "res = requests.post(url, data = data, files=files)"
   ]
  },
  {
   "cell_type": "code",
   "execution_count": 69,
   "id": "10da9226",
   "metadata": {},
   "outputs": [
    {
     "data": {
      "text/plain": [
       "'Total objects on a video 0'"
      ]
     },
     "execution_count": 69,
     "metadata": {},
     "output_type": "execute_result"
    }
   ],
   "source": [
    "res.json()['message']"
   ]
  },
  {
   "cell_type": "code",
   "execution_count": null,
   "id": "84dd97a6",
   "metadata": {},
   "outputs": [],
   "source": []
  }
 ],
 "metadata": {
  "kernelspec": {
   "display_name": "Python 3 (ipykernel)",
   "language": "python",
   "name": "python3"
  },
  "language_info": {
   "codemirror_mode": {
    "name": "ipython",
    "version": 3
   },
   "file_extension": ".py",
   "mimetype": "text/x-python",
   "name": "python",
   "nbconvert_exporter": "python",
   "pygments_lexer": "ipython3",
   "version": "3.10.12"
  }
 },
 "nbformat": 4,
 "nbformat_minor": 5
}
